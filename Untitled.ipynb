{
 "cells": [
  {
   "cell_type": "code",
   "execution_count": 7,
   "metadata": {},
   "outputs": [
    {
     "name": "stdout",
     "output_type": "stream",
     "text": [
      "Enter your ciphertext: Jgnnq vjku ku c vguv. Rngcug gpvgt Aqwt vgzv jgtg.\n",
      "Jgnnq vjku ku c vguv. Rngcug gpvgt Aqwt vgzv jgtg.\n"
     ]
    }
   ],
   "source": [
    "cipher = input(\"Enter your ciphertext: \")\n",
    "print(cipher)\n",
    "\n"
   ]
  },
  {
   "cell_type": "code",
   "execution_count": 8,
   "metadata": {},
   "outputs": [
    {
     "name": "stdout",
     "output_type": "stream",
     "text": [
      "{'J': 1, 'g': 9, 'n': 3, 'q': 2, ' ': 9, 'v': 6, 'j': 2, 'k': 2, 'u': 4, 'c': 2, '.': 2, 'R': 1, 'p': 1, 't': 3, 'A': 1, 'w': 1, 'z': 1}\n"
     ]
    }
   ],
   "source": [
    "letter_frequency_dictionary = {}\n",
    "for char in cipher:\n",
    "    if char not in letter_frequency_dictionary:\n",
    "        letter_frequency_dictionary[char] = 1\n",
    "    else:\n",
    "        letter_frequency_dictionary[char] += 1\n",
    "print(letter_frequency_dictionary)"
   ]
  },
  {
   "cell_type": "code",
   "execution_count": null,
   "metadata": {},
   "outputs": [],
   "source": []
  }
 ],
 "metadata": {
  "kernelspec": {
   "display_name": "Python 3",
   "language": "python",
   "name": "python3"
  }
 },
 "nbformat": 4,
 "nbformat_minor": 2
}
