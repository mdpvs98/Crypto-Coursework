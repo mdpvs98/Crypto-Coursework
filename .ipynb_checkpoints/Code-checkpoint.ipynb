{
 "cells": [
  {
   "cell_type": "code",
   "execution_count": null,
   "metadata": {},
   "outputs": [],
   "source": [
    "ctype = input(\"Do you want to crack a monoalphabetic or polyalphabetic cypher? Enter m or p \")\n",
    "#I did not have the required time to implement a polyalphabetic solution, this piece of code is not used \n",
    "#throughput the program however it remains here as a representation of what I was planning to accomplish"
   ]
  },
  {
   "cell_type": "code",
   "execution_count": null,
   "metadata": {
    "scrolled": true
   },
   "outputs": [],
   "source": [
    "cipher = input(\"Enter your ciphertext: \") #request for user input of the cipher\n",
    "print(cipher)"
   ]
  },
  {
   "cell_type": "code",
   "execution_count": null,
   "metadata": {},
   "outputs": [],
   "source": [
    "#clean the plaintext to remove all punctuation and spaces\n",
    "import re\n",
    "cipher = re.sub(r'[^\\w\\s]', '', cipher)\n",
    "cipher = re.sub(r'\\s+', '', cipher)\n",
    "cipher = re.sub(r'[^A-Za-z]','',cipher)\n",
    "cipher = cipher.lower() #makes all characters lowercase\n",
    "print(cipher)"
   ]
  },
  {
   "cell_type": "code",
   "execution_count": null,
   "metadata": {},
   "outputs": [],
   "source": [
    "clength = len(cipher) #this is no longer necessary as i calculate the length again in the next block of code\n",
    "print(clength)"
   ]
  },
  {
   "cell_type": "code",
   "execution_count": null,
   "metadata": {},
   "outputs": [],
   "source": [
    "#if ctype = 'm'\n",
    "letter_frequency_dictionary = {}\n",
    "for char in cipher:\n",
    "    if char not in letter_frequency_dictionary:\n",
    "        letter_frequency_dictionary[char] = 1\n",
    "    else:\n",
    "        letter_frequency_dictionary[char] += 1\n",
    "print(letter_frequency_dictionary)\n",
    "\n",
    "def avg_dict(my_dict):\n",
    "    sum_val = sum(my_dict.values())\n",
    "    for value in my_dict:\n",
    "        my_dict[value] = round(float(my_dict[value]/sum_val), 6)\n",
    "\n",
    "    return my_dict\n",
    "avg_dict(letter_frequency_dictionary)\n",
    "print(avg_dict(letter_frequency_dictionary))"
   ]
  },
  {
   "cell_type": "code",
   "execution_count": null,
   "metadata": {},
   "outputs": [],
   "source": [
    "frequencies = [0.08167, 0.01492, 0.02782, 0.04253, 0.12702, 0.02228, 0.02015, 0.06094, 0.06966, 0.00153, 0.00772, \n",
    "               0.04025, 0.02406, 0.06749, 0.07507, 0.01929, 0.00095, 0.05987, 0.06327, 0.09056, 0.02758, 0.00978, \n",
    "               0.02360, 0.00150, 0.01974, 0.00074]\n",
    "letters = ['a', 'b', 'c', 'd', 'e', 'f', 'g', 'h', 'i', 'j', 'k', 'l', 'm', 'n', 'o', 'p', 'q', 'r', 's', 't', 'u',\n",
    "           'v', 'w', 'x', 'y', 'z']\n",
    "\n",
    "english_frequencies = dict(zip(letters, frequencies))\n",
    "print(english_frequencies)\n"
   ]
  },
  {
   "cell_type": "code",
   "execution_count": null,
   "metadata": {},
   "outputs": [],
   "source": [
    "#sorted_cipher = dict(sorted(letter_frequency_dictionary.items(), key= lambda item:item[1]))\n",
    "sorted_cipher = dict(sorted(letter_frequency_dictionary.items(), key=lambda x: x[1], reverse=True))\n",
    "\n",
    "print(sorted_cipher)"
   ]
  },
  {
   "cell_type": "code",
   "execution_count": null,
   "metadata": {},
   "outputs": [],
   "source": [
    "#sorted_english = dict(sorted(english_frequencies.items(), key= lambda item:item[1]))\n",
    "sorted_english = dict(sorted(english_frequencies.items(), key=lambda x: x[1], reverse=True))\n",
    "print(sorted_english)"
   ]
  },
  {
   "cell_type": "code",
   "execution_count": null,
   "metadata": {},
   "outputs": [],
   "source": [
    "en_list = list(sorted_english.keys())\n",
    "ci_list = list(sorted_cipher.keys())\n",
    "\n",
    "for i in range(0, len(en_list)):\n",
    "    if i == len(ci_list):\n",
    "        break\n",
    "    #print(i)\n",
    "    ci_list[i] = en_list[i]\n",
    "print(ci_list)"
   ]
  },
  {
   "cell_type": "code",
   "execution_count": null,
   "metadata": {},
   "outputs": [],
   "source": [
    "mapping = dict(zip(list(sorted_cipher.keys()),ci_list ))\n",
    "print(mapping)"
   ]
  },
  {
   "cell_type": "code",
   "execution_count": null,
   "metadata": {
    "scrolled": true
   },
   "outputs": [],
   "source": [
    "# t =' '.join(cipher)\n",
    "# print(t)\n",
    "\n",
    "# test = t.translate(mapping)\n",
    "# print(test)\n",
    "\n",
    "mytable = cipher.maketrans(mapping)\n",
    "cipher_translated = cipher.translate(mytable)\n",
    "\n",
    "print('Original String:', cipher)\n",
    "print('')\n",
    "print('Translated String:', cipher_translated)\n",
    "print('Table:', mytable)"
   ]
  },
  {
   "cell_type": "code",
   "execution_count": null,
   "metadata": {},
   "outputs": [],
   "source": []
  }
 ],
 "metadata": {
  "kernelspec": {
   "display_name": "Python 3",
   "language": "python",
   "name": "python3"
  },
  "language_info": {
   "codemirror_mode": {
    "name": "ipython",
    "version": 3
   },
   "file_extension": ".py",
   "mimetype": "text/x-python",
   "name": "python",
   "nbconvert_exporter": "python",
   "pygments_lexer": "ipython3",
   "version": "3.7.4"
  }
 },
 "nbformat": 4,
 "nbformat_minor": 2
}
