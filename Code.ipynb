{
 "cells": [
  {
   "cell_type": "code",
   "execution_count": 27,
   "metadata": {},
   "outputs": [
    {
     "name": "stdout",
     "output_type": "stream",
     "text": [
      "Do you want to crack a monoalphabetic or polyalphabetic cypher? Enter m or p m\n"
     ]
    }
   ],
   "source": [
    "ctype = input(\"Do you want to crack a monoalphabetic or polyalphabetic cypher? Enter m or p \")"
   ]
  },
  {
   "cell_type": "code",
   "execution_count": 28,
   "metadata": {},
   "outputs": [
    {
     "name": "stdout",
     "output_type": "stream",
     "text": [
      "Enter your ciphertext: bjqq, fkyjw N mfi gjjs ns ymj wttr fgtzy yjs rnszyjx, yfqpnsl yt mzlj tAjwiwjxxji itBfljwx fsi yjintzx fhfijrnhnfsx, N xziijsqD gjhfrj htsxhntzx ymfy xtrj tsj Bfx qttpnsl fy rj. N yzwsji mfqk-BfD wtzsi fsi xfB Itwnfs LwfD ktw ymj knwxy ynrj. bmjs tzw jDjx rjy, N kjqy ymfy N Bfx lwtBnsl ufqj. F hzwntzx xjsxfynts tk yjwwtw hfrj tAjw rj. N psjB ymfy N mfi htrj kfhj yt kfhj Bnym xtrj tsj Bmtxj rjwj ujwxtsfqnyD Bfx xt kfxhnsfynsl ymfy, nk N fqqtBji ny yt it xt, ny Btzqi fgxtwg rD Bmtqj sfyzwj, rD Bmtqj xtzq, rD AjwD fwy nyxjqk. N ini sty Bfsy fsD jCyjwsfq nskqzjshj ns rD qnkj. dtz pstB Dtzwxjqk, MfwwD, mtB nsijujsijsy N fr gD sfyzwj. N mfAj fqBfDx gjjs rD tBs rfxyjw; mfi fy qjfxy fqBfDx gjjs xt, ynqq N rjy Itwnfs LwfD. Ymjs—gzy N its’y pstB mtB yt jCuqfns ny yt Dtz. Xtrjymnsl xjjrji yt yjqq rj ymfy N Bfx ts ymj Ajwlj tk f yjwwngqj hwnxnx ns rD qnkj. N mfi f xywfslj kjjqnsl ymfy kfyj mfi ns xytwj ktw rj jCvznxnyj otDx fsi jCvznxnyj xtwwtBx. N lwjB fkwfni fsi yzwsji yt vzny ymj wttr. Ny Bfx sty htsxhnjshj ymfy rfij rj it xt: ny Bfx f xtwy tk htBfwinhj.\n",
      "bjqq, fkyjw N mfi gjjs ns ymj wttr fgtzy yjs rnszyjx, yfqpnsl yt mzlj tAjwiwjxxji itBfljwx fsi yjintzx fhfijrnhnfsx, N xziijsqD gjhfrj htsxhntzx ymfy xtrj tsj Bfx qttpnsl fy rj. N yzwsji mfqk-BfD wtzsi fsi xfB Itwnfs LwfD ktw ymj knwxy ynrj. bmjs tzw jDjx rjy, N kjqy ymfy N Bfx lwtBnsl ufqj. F hzwntzx xjsxfynts tk yjwwtw hfrj tAjw rj. N psjB ymfy N mfi htrj kfhj yt kfhj Bnym xtrj tsj Bmtxj rjwj ujwxtsfqnyD Bfx xt kfxhnsfynsl ymfy, nk N fqqtBji ny yt it xt, ny Btzqi fgxtwg rD Bmtqj sfyzwj, rD Bmtqj xtzq, rD AjwD fwy nyxjqk. N ini sty Bfsy fsD jCyjwsfq nskqzjshj ns rD qnkj. dtz pstB Dtzwxjqk, MfwwD, mtB nsijujsijsy N fr gD sfyzwj. N mfAj fqBfDx gjjs rD tBs rfxyjw; mfi fy qjfxy fqBfDx gjjs xt, ynqq N rjy Itwnfs LwfD. Ymjs—gzy N its’y pstB mtB yt jCuqfns ny yt Dtz. Xtrjymnsl xjjrji yt yjqq rj ymfy N Bfx ts ymj Ajwlj tk f yjwwngqj hwnxnx ns rD qnkj. N mfi f xywfslj kjjqnsl ymfy kfyj mfi ns xytwj ktw rj jCvznxnyj otDx fsi jCvznxnyj xtwwtBx. N lwjB fkwfni fsi yzwsji yt vzny ymj wttr. Ny Bfx sty htsxhnjshj ymfy rfij rj it xt: ny Bfx f xtwy tk htBfwinhj.\n"
     ]
    }
   ],
   "source": [
    "cipher = input(\"Enter your ciphertext: \")\n",
    "print(cipher)"
   ]
  },
  {
   "cell_type": "code",
   "execution_count": 34,
   "metadata": {},
   "outputs": [
    {
     "name": "stdout",
     "output_type": "stream",
     "text": [
      "bjqqfkyjwNmfigjjsnsymjwttrfgtzyyjsrnszyjxyfqpnslytmzljtAjwiwjxxjiitBfljwxfsiyjintzxfhfijrnhnfsxNxziijsqDgjhfrjhtsxhntzxymfyxtrjtsjBfxqttpnslfyrjNyzwsjimfqkBfDwtzsifsixfBItwnfsLwfDktwymjknwxyynrjbmjstzwjDjxrjyNkjqyymfyNBfxlwtBnslufqjFhzwntzxxjsxfyntstkyjwwtwhfrjtAjwrjNpsjBymfyNmfihtrjkfhjytkfhjBnymxtrjtsjBmtxjrjwjujwxtsfqnyDBfxxtkfxhnsfynslymfynkNfqqtBjinyytitxtnyBtzqifgxtwgrDBmtqjsfyzwjrDBmtqjxtzqrDAjwDfwynyxjqkNinistyBfsyfsDjCyjwsfqnskqzjshjnsrDqnkjdtzpstBDtzwxjqkMfwwDmtBnsijujsijsyNfrgDsfyzwjNmfAjfqBfDxgjjsrDtBsrfxyjwmfifyqjfxyfqBfDxgjjsxtynqqNrjyItwnfsLwfDYmjsgzyNitsypstBmtBytjCuqfnsnyytDtzXtrjymnslxjjrjiytyjqqrjymfyNBfxtsymjAjwljtkfyjwwngqjhwnxnxnsrDqnkjNmfifxywfsljkjjqnslymfykfyjmfinsxytwjktwrjjCvznxnyjotDxfsijCvznxnyjxtwwtBxNlwjBfkwfnifsiyzwsjiytvznyymjwttrNyBfxstyhtsxhnjshjymfyrfijrjitxtnyBfxfxtwytkhtBfwinhj\n"
     ]
    }
   ],
   "source": [
    "#clean the plaintext to remove all punctuation and spaces\n",
    "import re\n",
    "cipher = re.sub(r'[^\\w\\s]', '', cipher)\n",
    "cipher = re.sub(r\"\\s+\", \"\", cipher)\n",
    "print(cipher)"
   ]
  },
  {
   "cell_type": "code",
   "execution_count": 36,
   "metadata": {},
   "outputs": [
    {
     "name": "stdout",
     "output_type": "stream",
     "text": [
      "826\n"
     ]
    }
   ],
   "source": [
    "clength = len(cipher)\n",
    "print(clength)"
   ]
  },
  {
   "cell_type": "code",
   "execution_count": 43,
   "metadata": {},
   "outputs": [
    {
     "name": "stdout",
     "output_type": "stream",
     "text": [
      "{'b': 2, 'j': 100, 'q': 31, 'f': 74, 'k': 21, 'y': 74, 'w': 47, 'N': 17, 'm': 28, 'i': 32, 'g': 10, 's': 57, 'n': 48, 't': 72, 'r': 29, 'z': 24, 'x': 50, 'p': 5, 'l': 12, 'A': 5, 'B': 28, 'h': 18, 'D': 21, 'I': 2, 'L': 2, 'u': 4, 'F': 1, 'C': 4, 'd': 1, 'M': 1, 'Y': 1, 'X': 1, 'v': 3, 'o': 1}\n",
      "{'b': 0.002421, 'j': 0.121065, 'q': 0.03753, 'f': 0.089588, 'k': 0.025424, 'y': 0.089588, 'w': 0.056901, 'N': 0.020581, 'm': 0.033898, 'i': 0.038741, 'g': 0.012107, 's': 0.069007, 'n': 0.058111, 't': 0.087167, 'r': 0.035109, 'z': 0.029056, 'x': 0.060533, 'p': 0.006053, 'l': 0.014528, 'A': 0.006053, 'B': 0.033898, 'h': 0.021792, 'D': 0.025424, 'I': 0.002421, 'L': 0.002421, 'u': 0.004843, 'F': 0.001211, 'C': 0.004843, 'd': 0.001211, 'M': 0.001211, 'Y': 0.001211, 'X': 0.001211, 'v': 0.003632, 'o': 0.001211}\n"
     ]
    }
   ],
   "source": [
    "#if ctype = 'm'\n",
    "letter_frequency_dictionary = {}\n",
    "for char in cipher:\n",
    "    if char not in letter_frequency_dictionary:\n",
    "        letter_frequency_dictionary[char] = 1\n",
    "    else:\n",
    "        letter_frequency_dictionary[char] += 1\n",
    "print(letter_frequency_dictionary)\n",
    "\n",
    "def avg_dict(my_dict):\n",
    "    sum_val = sum(my_dict.values())\n",
    "    for value in my_dict:\n",
    "        my_dict[value] = round(float(my_dict[value]/sum_val), 6)\n",
    "\n",
    "    return my_dict\n",
    "avg_dict(letter_frequency_dictionary)\n",
    "print(avg_dict(letter_frequency_dictionary))"
   ]
  },
  {
   "cell_type": "code",
   "execution_count": null,
   "metadata": {},
   "outputs": [],
   "source": [
    "def english_frequency(f):\n",
    "     frequencies = [0.08167, 0.01492, 0.02782, 0.04253, 0.12702, 0.02228, 0.02015, 0.06094, 0.06966, 0.00153, 0.00772,\n",
    "                    0.04025, 0.02406, 0.06749, 0.07507, 0.01929, 0.00095, 0.05987, 0.06327, 0.09056, 0.02758, 0.00978,\n",
    "                    0.02360, 0.00150, 0.01974, 0.00074]"
   ]
  },
  {
   "cell_type": "code",
   "execution_count": null,
   "metadata": {},
   "outputs": [],
   "source": []
  }
 ],
 "metadata": {
  "kernelspec": {
   "display_name": "Python 3",
   "language": "python",
   "name": "python3"
  }
 },
 "nbformat": 4,
 "nbformat_minor": 2
}
